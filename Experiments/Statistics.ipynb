{
 "cells": [
  {
   "cell_type": "markdown",
   "id": "faf50ee3-08c6-47ec-b9cb-301d8600d8f1",
   "metadata": {},
   "source": [
    "# Prep"
   ]
  },
  {
   "cell_type": "code",
   "execution_count": null,
   "id": "a8500492-1f9b-4ab5-b1fb-3ddd1e4a2682",
   "metadata": {},
   "outputs": [],
   "source": [
    "import numpy as np\n",
    "import pandas as pd\n",
    "from scipy.stats import f_oneway\n",
    "import matplotlib.pyplot as plt"
   ]
  },
  {
   "cell_type": "code",
   "execution_count": null,
   "id": "b209a944-70e4-4a0a-acbf-b16beca9b4a8",
   "metadata": {},
   "outputs": [],
   "source": [
    "corrected = pd.read_csv(\"results.csv\")\n",
    "uncorrected = pd.read_csv(\"results_uncorrected.csv\")\n",
    "\n",
    "means_corrected = corrected[\"Mean Error\"]\n",
    "means_uncorrected = uncorrected[\"Mean Error\"]"
   ]
  },
  {
   "cell_type": "markdown",
   "id": "60ee2874-a6fb-45c5-8415-a63740cb82c4",
   "metadata": {},
   "source": [
    "# Corrected vs Uncorrected"
   ]
  },
  {
   "cell_type": "code",
   "execution_count": null,
   "id": "2dfb89cb-9bbb-45a3-85d3-ee9fa61a4e33",
   "metadata": {},
   "outputs": [],
   "source": [
    "corrected = pd.read_csv(\"results.csv\")\n",
    "uncorrected = pd.read_csv(\"results_uncorrected.csv\")\n",
    "\n",
    "means_corrected = corrected[\"Mean Error\"]\n",
    "means_uncorrected = uncorrected[\"Mean Error\"]\n",
    "\n",
    "print(f\"Grand Mean - Uncorrected: {np.mean(means_uncorrected)}\")\n",
    "print(f\"Grand Mean - Corrected: {np.mean(means_corrected)}\")"
   ]
  },
  {
   "cell_type": "markdown",
   "id": "bbd2c48f-6723-4f0e-94eb-3185f8548076",
   "metadata": {
    "tags": []
   },
   "source": [
    "## ANOVA"
   ]
  },
  {
   "cell_type": "code",
   "execution_count": null,
   "id": "bbfc6ce6-759e-4fb6-8be3-daca3721e658",
   "metadata": {
    "tags": []
   },
   "outputs": [],
   "source": [
    "f_stat_means, p_value_means = f_oneway(means_corrected, means_uncorrected, axis = 0)"
   ]
  },
  {
   "cell_type": "code",
   "execution_count": null,
   "id": "ed914f6b-e48a-4ae1-a501-8c9dbc7c13d8",
   "metadata": {
    "tags": []
   },
   "outputs": [],
   "source": [
    "print(\"ANOVA\")\n",
    "print(\"-------------------------------------\")\n",
    "print(f\"F-stat for mean error: {f_stat_means}\")\n",
    "print(f\"P-value for mean error: {p_value_means}\")"
   ]
  },
  {
   "cell_type": "markdown",
   "id": "d1d2d665-d202-45ae-ad42-7bdbaf57d95e",
   "metadata": {
    "tags": []
   },
   "source": [
    "# Modalities vs uncorrected"
   ]
  },
  {
   "cell_type": "code",
   "execution_count": null,
   "id": "e6f91bc6-1344-4c8a-8ddf-5fb59e121ede",
   "metadata": {},
   "outputs": [],
   "source": [
    "corrected_multi = pd.read_csv(\"results.csv\")\n",
    "corrected_visual = pd.read_csv(\"results_visual.csv\")\n",
    "corrected_tactile = pd.read_csv(\"results_tactile.csv\")\n",
    "uncorrected = pd.read_csv(\"results_uncorrected.csv\")\n",
    "\n",
    "means_corrected_multi = corrected_multi[\"Mean Error\"]\n",
    "means_corrected_visual = corrected_visual[\"Mean Error\"]\n",
    "means_corrected_tactile = corrected_tactile[\"Mean Error\"]\n",
    "means_uncorrected = uncorrected[\"Mean Error\"]\n",
    "\n",
    "print(f\"Grand Mean - Uncorrected: {np.mean(means_uncorrected)}\")\n",
    "print(f\"Grand Mean - Corrected (multi): {np.mean(means_corrected_multi)}\")\n",
    "print(f\"Grand Mean - Corrected (visual): {np.mean(means_corrected_visual)}\")\n",
    "print(f\"Grand Mean - Corrected (tactile): {np.mean(means_corrected_tactile)}\")"
   ]
  },
  {
   "cell_type": "code",
   "execution_count": null,
   "id": "fb8158fc-33f8-4f9d-92f2-bc484a71855b",
   "metadata": {},
   "outputs": [],
   "source": [
    "fig, ax = plt.subplots(1,1, sharey = True, figsize = (9,6))\n",
    "\n",
    "ax.axhline(np.mean(means_uncorrected), linestyle = '--', color = 'red', alpha = 0.5, linewidth = 2)\n",
    "ax.boxplot([means_corrected_multi, means_corrected_visual, means_corrected_tactile, means_uncorrected])\n",
    "ax.set_ylabel(\"Mean Error (m)\")\n",
    "ax.set_xticklabels([\"Multimodal\", \"Visual\", \"Tactile\", \"Uncorrected\"])\n",
    "\n",
    "plt.rcParams.update({'font.size': 16})\n",
    "\n",
    "plt.show()"
   ]
  },
  {
   "cell_type": "markdown",
   "id": "07fea310-c423-4923-8ff2-d04f53c9e138",
   "metadata": {
    "tags": []
   },
   "source": [
    "## ANOVA"
   ]
  },
  {
   "cell_type": "code",
   "execution_count": null,
   "id": "9553e0a0-6979-488e-9844-8e615faa9749",
   "metadata": {
    "tags": []
   },
   "outputs": [],
   "source": [
    "f_stat_means_visual, p_value_means_visual = f_oneway(means_corrected_visual, means_uncorrected, axis = 0)\n",
    "f_stat_means_tactile, p_value_means_tactile = f_oneway(means_corrected_tactile, means_uncorrected, axis = 0)"
   ]
  },
  {
   "cell_type": "code",
   "execution_count": null,
   "id": "bf85b54a-a41b-403e-9fb2-fe58cebb9408",
   "metadata": {
    "tags": []
   },
   "outputs": [],
   "source": [
    "print(\"ANOVA\")\n",
    "print(\"-------------------------------------\")\n",
    "print(f\"F-stat for mean error (visual): {f_stat_means_visual}\")\n",
    "print(f\"P-value for mean error (visual): {p_value_means_visual}\")\n",
    "print(\"-------------------------------------\")\n",
    "print(f\"F-stat for mean error (tactile): {f_stat_means_tactile}\")\n",
    "print(f\"P-value for mean error (tactile): {p_value_means_tactile}\")"
   ]
  },
  {
   "cell_type": "markdown",
   "id": "9d556d25-deff-48ac-ba43-f720af529e13",
   "metadata": {},
   "source": [
    "# Visual vs multimodal"
   ]
  },
  {
   "cell_type": "code",
   "execution_count": null,
   "id": "ad3ac8d3-cb11-49b0-b19f-7db8a80d5dac",
   "metadata": {},
   "outputs": [],
   "source": [
    "corrected_multi = pd.read_csv(\"results.csv\")\n",
    "corrected_visual = pd.read_csv(\"results_visual.csv\")\n",
    "\n",
    "means_corrected_multi = corrected_multi[\"Mean Error\"]\n",
    "means_corrected_visual = corrected_visual[\"Mean Error\"]"
   ]
  },
  {
   "cell_type": "markdown",
   "id": "bb3f6c92-c71e-404b-9be1-211b2f9ca38d",
   "metadata": {
    "tags": []
   },
   "source": [
    "## ANOVA"
   ]
  },
  {
   "cell_type": "code",
   "execution_count": null,
   "id": "c6b02a01-cd8c-49e3-b7e3-88428abaf430",
   "metadata": {
    "tags": []
   },
   "outputs": [],
   "source": [
    "f_stat_means_multi_visual, p_value_means_multi_visual = f_oneway(means_corrected, means_corrected_visual, axis = 0)"
   ]
  },
  {
   "cell_type": "code",
   "execution_count": null,
   "id": "3457003c-4c4b-455e-b58e-32d64e5c5728",
   "metadata": {
    "tags": []
   },
   "outputs": [],
   "source": [
    "print(\"ANOVA\")\n",
    "print(\"-------------------------------------\")\n",
    "print(f\"F-stat for mean error (multi vs visual): {f_stat_means_multi_visual}\")\n",
    "print(f\"P-value for mean error (multi vs visual): {p_value_means_multi_visual}\")"
   ]
  },
  {
   "cell_type": "markdown",
   "id": "51cffd96-81a0-4a67-8dd6-d21089d09730",
   "metadata": {},
   "source": [
    "# Confidence vs no confidence"
   ]
  },
  {
   "cell_type": "code",
   "execution_count": null,
   "id": "a3040e03-ca67-4fbc-a6ec-9d8a78da5e0b",
   "metadata": {},
   "outputs": [],
   "source": [
    "corrected_confidence = pd.read_csv(\"results.csv\")\n",
    "corrected_no_confidence = pd.read_csv(\"results_no_confidence.csv\")\n",
    "\n",
    "means_corrected_confidence = corrected_confidence[\"Mean Error\"]\n",
    "means_corrected_no_confidence = corrected_no_confidence[\"Mean Error\"]"
   ]
  },
  {
   "cell_type": "code",
   "execution_count": null,
   "id": "48029089-3cf4-4694-9807-39f79c5c3b1d",
   "metadata": {},
   "outputs": [],
   "source": [
    "print(f\"Grand Mean - No Confidence: {np.mean(means_corrected_no_confidence)}\")\n",
    "print(f\"Grand Mean - Confidence: {np.mean(means_corrected_confidence)}\")"
   ]
  },
  {
   "cell_type": "code",
   "execution_count": null,
   "id": "3d567d7c-bc74-421f-bc40-1114d07f97dc",
   "metadata": {},
   "outputs": [],
   "source": [
    "fig, ax = plt.subplots(1,1, sharey = True, figsize = (9,6))\n",
    "\n",
    "ax.axhline(np.mean(means_uncorrected), linestyle = '--', color = 'red', alpha = 0.5, linewidth = 2)\n",
    "ax.boxplot([means_corrected_no_confidence, means_corrected_confidence, means_uncorrected])\n",
    "ax.set_ylabel(\"Mean Error (m)\")\n",
    "ax.set_xticklabels([\"No Scaling\", \"With Scaling\", \"Uncorrected\"])\n",
    "\n",
    "plt.rcParams.update({'font.size': 16})\n",
    "\n",
    "plt.show()"
   ]
  },
  {
   "cell_type": "markdown",
   "id": "d725b738-f4fc-4ac2-ba22-c8c16a3a8f82",
   "metadata": {
    "tags": []
   },
   "source": [
    "## ANOVA"
   ]
  },
  {
   "cell_type": "code",
   "execution_count": null,
   "id": "7b8d986c-f7d9-4060-b0fb-2dd071abb7de",
   "metadata": {
    "tags": []
   },
   "outputs": [],
   "source": [
    "f_stat_means_confidence, p_value_means_confidence = f_oneway(means_corrected_confidence, means_corrected_no_confidence, axis = 0)"
   ]
  },
  {
   "cell_type": "code",
   "execution_count": null,
   "id": "28d7cc0c-98cc-4a14-a117-a2732147f898",
   "metadata": {
    "tags": []
   },
   "outputs": [],
   "source": [
    "print(\"ANOVA\")\n",
    "print(\"-------------------------------------\")\n",
    "print(f\"F-stat for mean error (scaling vs no scaling): {f_stat_means_confidence}\")\n",
    "print(f\"P-value for mean error (scaling vs no scaling): {p_value_means_confidence}\")"
   ]
  },
  {
   "cell_type": "code",
   "execution_count": null,
   "id": "61d20e74-2c8f-4b7c-a91a-5e067652a434",
   "metadata": {
    "tags": []
   },
   "outputs": [],
   "source": [
    "f_stat_means_confidence, p_value_means_confidence = f_oneway(means_corrected_confidence, means_uncorrected, axis = 0)"
   ]
  },
  {
   "cell_type": "code",
   "execution_count": null,
   "id": "b12ce020-3493-480c-8cd7-35e9e724ce0d",
   "metadata": {
    "tags": []
   },
   "outputs": [],
   "source": [
    "print(\"ANOVA\")\n",
    "print(\"-------------------------------------\")\n",
    "print(f\"F-stat for mean error (scaling vs uncorrected): {f_stat_means_confidence}\")\n",
    "print(f\"P-value for mean error (scaling vs uncorrected): {p_value_means_confidence}\")"
   ]
  },
  {
   "cell_type": "code",
   "execution_count": null,
   "id": "9a5e83e4-821b-4eef-bb32-c5abfe717a1d",
   "metadata": {
    "tags": []
   },
   "outputs": [],
   "source": [
    "f_stat_means_confidence, p_value_means_confidence = f_oneway(means_corrected_no_confidence, means_uncorrected, axis = 0)"
   ]
  },
  {
   "cell_type": "code",
   "execution_count": null,
   "id": "17f77e8e-440c-43b4-a883-ac82a0a8bedc",
   "metadata": {
    "tags": []
   },
   "outputs": [],
   "source": [
    "print(\"ANOVA\")\n",
    "print(\"-------------------------------------\")\n",
    "print(f\"F-stat for mean error (no scaling vs uncorrected): {f_stat_means_confidence}\")\n",
    "print(f\"P-value for mean error (no scaling vs uncorrected): {p_value_means_confidence}\")"
   ]
  },
  {
   "cell_type": "markdown",
   "id": "95534fca-2233-4977-876c-bb90cf430505",
   "metadata": {},
   "source": [
    "# Power Consumption"
   ]
  },
  {
   "cell_type": "code",
   "execution_count": null,
   "id": "da3ea6cd-2c3e-4303-82e0-dcf35eee6928",
   "metadata": {},
   "outputs": [],
   "source": [
    "fig, ax = plt.subplots(1,1, figsize = (12, 10))\n",
    "\n",
    "power_consumption_data = pd.read_csv(\"results_power_consumption.csv\")\n",
    "\n",
    "power_consumption_data.sort_values(\"Minimum Input\", inplace = True)\n",
    "\n",
    "power_values = power_consumption_data[\"Minimum Input\"][power_consumption_data[\"Minimum Input\"] <= 5000].unique()\n",
    "\n",
    "error_values = np.array([power_consumption_data[power_consumption_data[\"Minimum Input\"] == power_value][\"Mean Error\"] for power_value in power_values])\n",
    "\n",
    "standard_deviations = np.std(error_values, axis = 1)\n",
    "\n",
    "mean_error_values = np.mean(error_values, axis = 1)\n",
    "\n",
    "ax.scatter(power_values, mean_error_values, c = 'DodgerBlue', label = 'Mean error')\n",
    "\n",
    "polyfit_coefficients, ssr, _, _, _ = np.polyfit(power_values, mean_error_values, deg = 3, full = True)\n",
    "\n",
    "fit_values = np.polyval(polyfit_coefficients, power_values)\n",
    "\n",
    "ax.plot(power_values, fit_values, c = 'MediumSeaGreen', label = 'Fit curve', linewidth = 4)\n",
    "\n",
    "ax.axhline(np.mean(means_uncorrected), linestyle = '--', color = 'IndianRed', label = \"Uncorrected\", linewidth = 4)\n",
    "\n",
    "ax.fill_betweenx((0,0.17), 0, 400, color = 'IndianRed', alpha = 0.5, label = 'No activity')\n",
    "\n",
    "ax.fill_between(power_values, mean_error_values-standard_deviations, mean_error_values+standard_deviations, color = 'DodgerBlue', alpha = 0.5)\n",
    "\n",
    "ax.set_ylim(0.05, 0.17)\n",
    "\n",
    "ax.set_xlabel(\"Ring Current (pA)\")\n",
    "\n",
    "ax.set_ylabel(\"Mean Error (m)\")"
   ]
  },
  {
   "cell_type": "code",
   "execution_count": null,
   "id": "16cfc02b-b49a-4f14-a416-5857edc7daf9",
   "metadata": {},
   "outputs": [],
   "source": []
  }
 ],
 "metadata": {
  "kernelspec": {
   "display_name": "Python 3 (ipykernel)",
   "language": "python",
   "name": "python3"
  },
  "language_info": {
   "codemirror_mode": {
    "name": "ipython",
    "version": 3
   },
   "file_extension": ".py",
   "mimetype": "text/x-python",
   "name": "python",
   "nbconvert_exporter": "python",
   "pygments_lexer": "ipython3",
   "version": "3.8.13"
  }
 },
 "nbformat": 4,
 "nbformat_minor": 5
}
